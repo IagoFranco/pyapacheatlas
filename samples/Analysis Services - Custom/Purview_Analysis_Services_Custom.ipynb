{
 "cells": [
  {
   "cell_type": "code",
   "execution_count": null,
   "metadata": {},
   "outputs": [],
   "source": [
    "import json\n",
    "import os\n",
    "from pyapacheatlas.auth import ServicePrincipalAuthentication\n",
    "from pyapacheatlas.core import PurviewClient\n",
    "from pyapacheatlas.core import AtlasEntity, AtlasProcess\n",
    "from pyapacheatlas.core import AtlasAttributeDef, EntityTypeDef, RelationshipTypeDef\n",
    "from pyapacheatlas.core.util import GuidTracker\n",
    "from pyapacheatlas.readers import ExcelReader\n",
    "from pyapacheatlas.scaffolding import column_lineage_scaffold\n",
    "from pyapacheatlas.readers import ExcelConfiguration, ExcelReader"
   ]
  },
  {
   "cell_type": "code",
   "execution_count": null,
   "metadata": {},
   "outputs": [],
   "source": [
    "auth = ServicePrincipalAuthentication(\n",
    "    tenant_id = \"\",\n",
    "    client_id = \"\",\n",
    "    client_secret = \"\"\n",
    ")"
   ]
  },
  {
   "cell_type": "code",
   "execution_count": null,
   "metadata": {},
   "outputs": [],
   "source": [
    "client = PurviewClient(\n",
    "    account_name = \"<account_name>\",\n",
    "    authentication = auth\n",
    ")"
   ]
  },
  {
   "cell_type": "markdown",
   "metadata": {},
   "source": [
    "Create a custom entity type that represents the Azure Analysis Services Server "
   ]
  },
  {
   "cell_type": "code",
   "execution_count": null,
   "metadata": {},
   "outputs": [],
   "source": [
    "custom_type = EntityTypeDef(\n",
    "    name=\"azure_analysis_services_server\",\n",
    "    superTypes=[\"azure_resource\"],\n",
    "    description=\"azure_analysis_services_server\",\n",
    "    typeVersion=\"1.0\",\n",
    ")\n",
    "\n",
    "#Attributes that represents the server\n",
    "custom_type.addAttributeDef(\n",
    "    AtlasAttributeDef(name=\"tier\", typeName=\"string\", isOptional=False),\n",
    "    AtlasAttributeDef(name=\"subscription\", typeName=\"string\", isOptional=False),\n",
    "    AtlasAttributeDef(name=\"resource-group\", typeName=\"string\", isOptional=False),\n",
    "    AtlasAttributeDef(name=\"location\", typeName=\"string\", isOptional=False)\n",
    ")\n",
    "\n",
    "client.upload_typedefs(\n",
    "    entityDefs=[custom_type],\n",
    "    force_update=True\n",
    ")"
   ]
  },
  {
   "cell_type": "markdown",
   "metadata": {},
   "source": [
    "Create a custom entity type that represents the Azure Analysis Services Model"
   ]
  },
  {
   "cell_type": "code",
   "execution_count": null,
   "metadata": {},
   "outputs": [],
   "source": [
    "custom_type = EntityTypeDef(\n",
    "    name=\"azure_analysis_services_model\",\n",
    "    superTypes=[\"Asset\"],\n",
    "    description=\"azure_analysis_services_model\",\n",
    "    typeVersion=\"1.0\",\n",
    "    serviceType=\"Azure Analysis Services Model\",\n",
    ")\n",
    "\n",
    "#Attributes that represents the model\n",
    "custom_type.addAttributeDef(\n",
    "    AtlasAttributeDef(name=\"database-name\", typeName=\"string\", isOptional=False),\n",
    "    AtlasAttributeDef(name=\"compatibility-level\", typeName=\"int\", isOptional=False)\n",
    ")\n",
    "\n",
    "client.upload_typedefs(\n",
    "    entityDefs=[custom_type],\n",
    "    force_update=True\n",
    ")"
   ]
  },
  {
   "cell_type": "markdown",
   "metadata": {},
   "source": [
    "Create a custom entity type that represents the Azure Analysis Services Model Table"
   ]
  },
  {
   "cell_type": "code",
   "execution_count": null,
   "metadata": {},
   "outputs": [],
   "source": [
    "custom_type = EntityTypeDef(\n",
    "    name=\"azure_analysis_services_table\",\n",
    "    superTypes=[\"DataSet\"],\n",
    "    description=\"azure_analysis_services_table\",\n",
    "    typeVersion=\"1.0\",\n",
    "    serviceType=\"Azure Analysis Services Model\",\n",
    ")\n",
    "\n",
    "#Attributes that represents the model table\n",
    "custom_type.addAttributeDef(\n",
    "    AtlasAttributeDef(name=\"tableType\", typeName=\"string\", isOptional=False),\n",
    "    AtlasAttributeDef(name=\"query\", typeName=\"string\", isOptional=False)\n",
    ")\n",
    "\n",
    "client.upload_typedefs(\n",
    "    entityDefs=[custom_type],\n",
    "    force_update=True\n",
    ")"
   ]
  },
  {
   "cell_type": "markdown",
   "metadata": {},
   "source": [
    "Create a custom entity type that represents the Azure Analysis Services Model Table Column"
   ]
  },
  {
   "cell_type": "code",
   "execution_count": null,
   "metadata": {},
   "outputs": [],
   "source": [
    "custom_type = EntityTypeDef(\n",
    "    name=\"azure_analysis_services_column\",\n",
    "    superTypes=[\"DataSet\"],\n",
    "    description=\"azure_analysis_services_column\",\n",
    "    typeVersion=\"1.0\",\n",
    "    serviceType=\"Azure Analysis Services Model\",\n",
    ")\n",
    "\n",
    "#Attributes that represents the model column\n",
    "custom_type.addAttributeDef(\n",
    "    AtlasAttributeDef(name=\"data_type\", typeName=\"string\", isOptional=False),\n",
    "    AtlasAttributeDef(name=\"isHidden\", typeName=\"string\", isOptional=False),\n",
    "    AtlasAttributeDef(name=\"isKey\", typeName=\"string\", isOptional=False),\n",
    "    AtlasAttributeDef(name=\"columnType\", typeName=\"string\", isOptional=False)\n",
    ")\n",
    "\n",
    "client.upload_typedefs(\n",
    "    entityDefs=[custom_type],\n",
    "    force_update=True\n",
    ")"
   ]
  },
  {
   "cell_type": "markdown",
   "metadata": {},
   "source": [
    "Create an Entity (AAS Server) based on that EntityTypeDef that was created before"
   ]
  },
  {
   "cell_type": "code",
   "execution_count": null,
   "metadata": {},
   "outputs": [],
   "source": [
    "gt = GuidTracker()\n",
    "serverGuid = gt.get_guid()\n",
    "ae = AtlasEntity(\n",
    "    name=\"AASHOMSERVER\",\n",
    "    typeName=\"azure_analysis_services_server\",\n",
    "    qualified_name=\"aashomserver.azure.net\",\n",
    "    guid=serverGuid,\n",
    "    attributes={\"tier\":\"D5\", \"subscription\":\"GProd\", \"resource-group\":\"USAZU1VRES302\", \"location\":\"EASTUS2\"}\n",
    ")\n",
    "\n",
    "uploadEntity = client.upload_entities(batch=[ae])"
   ]
  },
  {
   "cell_type": "markdown",
   "metadata": {},
   "source": [
    "Create an Entity (AAS Model) based on that EntityTypeDef that was created before"
   ]
  },
  {
   "cell_type": "code",
   "execution_count": null,
   "metadata": {},
   "outputs": [],
   "source": [
    "gt = GuidTracker()\n",
    "modelGuid1 = gt.get_guid()\n",
    "ae = AtlasEntity(\n",
    "    name=\"Model1\",\n",
    "    typeName=\"azure_analysis_services_model\",\n",
    "    qualified_name=\"aashomserver.azure.net/model1\",\n",
    "    guid=modelGuid1,\n",
    "    attributes={\"database-name\":\"AASDB1\", \"compatibility-level\":1100}\n",
    ")\n",
    "\n",
    "uploadEntity = client.upload_entities(batch=[ae])"
   ]
  },
  {
   "cell_type": "markdown",
   "metadata": {},
   "source": [
    "Create an Entity (AAS Model) based on that EntityTypeDef that was created before"
   ]
  },
  {
   "cell_type": "code",
   "execution_count": null,
   "metadata": {},
   "outputs": [],
   "source": [
    "gt = GuidTracker()\n",
    "modelGuid2 = gt.get_guid()\n",
    "ae = AtlasEntity(\n",
    "    name=\"Model2\",\n",
    "    typeName=\"azure_analysis_services_model\",\n",
    "    qualified_name=\"aashomserver.azure.net/model2\",\n",
    "    guid=modelGuid2,\n",
    "    attributes={\"database-name\":\"AASDB1\", \"compatibility-level\":1100}\n",
    ")\n",
    "\n",
    "uploadEntity = client.upload_entities(batch=[ae])"
   ]
  },
  {
   "cell_type": "code",
   "execution_count": null,
   "metadata": {},
   "outputs": [],
   "source": [
    "Create an Entity (AAS Table) based on that EntityTypeDef that was created before"
   ]
  },
  {
   "cell_type": "code",
   "execution_count": null,
   "metadata": {},
   "outputs": [],
   "source": [
    "gt = GuidTracker()\n",
    "tableGuid1 = gt.get_guid()\n",
    "ae = AtlasEntity(\n",
    "    name=\"Table1\",\n",
    "    typeName=\"azure_analysis_services_table\",\n",
    "    qualified_name=\"aashomserver.azure.net/model1/table1\",\n",
    "    guid=tableGuid1,\n",
    "    attributes={\"tableType\":\"Data\", \"query\": \"\"}\n",
    ")\n",
    "\n",
    "uploadEntity = client.upload_entities(batch=[ae])"
   ]
  },
  {
   "cell_type": "markdown",
   "metadata": {},
   "source": [
    "Create an Entity (AAS Column) based on that EntityTypeDef that was created before"
   ]
  },
  {
   "cell_type": "code",
   "execution_count": null,
   "metadata": {
    "scrolled": true
   },
   "outputs": [],
   "source": [
    "gt = GuidTracker()\n",
    "columnGuid1 = gt.get_guid()\n",
    "ae = AtlasEntity(\n",
    "    name=\"Column1\",\n",
    "    description=\"Column description\",\n",
    "    typeName=\"azure_analysis_services_column\",\n",
    "    qualified_name=\"aashomserver.azure.net/model1/table1#column1\",\n",
    "    guid=columnGuid1,\n",
    "    attributes={\"data_type\":\"String\", \"isHidden\": \"FALSE\", \"isKey\":\"FALSE\", \"columnType\":\"Data\"}\n",
    ")\n",
    "\n",
    "uploadEntity = client.upload_entities(batch=[ae])"
   ]
  },
  {
   "cell_type": "markdown",
   "metadata": {},
   "source": [
    "Create a Relationship structure from Server to Model"
   ]
  },
  {
   "cell_type": "code",
   "execution_count": null,
   "metadata": {
    "scrolled": true
   },
   "outputs": [],
   "source": [
    "rd = RelationshipTypeDef(\n",
    "    name=\"azure_analysis_services_server_models\",\n",
    "    attributeDefs=[],\n",
    "    relationshipCategory=\"COMPOSITION\",\n",
    "    endDef1={\n",
    "        \"type\":\"azure_analysis_services_server\",\n",
    "        \"name\":\"models\",\n",
    "        \"isContainer\": True,\n",
    "        \"cardinality\":\"SET\",\n",
    "        \"isLegacyAttribute\":False\n",
    "    },\n",
    "    endDef2={\n",
    "        \"type\":\"azure_analysis_services_model\",\n",
    "        \"name\":\"server\",\n",
    "        \"isContainer\":False,\n",
    "        \"cardinality\":\"SINGLE\",\n",
    "        \"isLegacyAttribute\":False\n",
    "    }\n",
    ")\n",
    "client.upload_typedefs(relationshipDefs=[rd])\n"
   ]
  },
  {
   "cell_type": "markdown",
   "metadata": {},
   "source": [
    "Create a Relationship structure from Model to Table"
   ]
  },
  {
   "cell_type": "code",
   "execution_count": null,
   "metadata": {},
   "outputs": [],
   "source": [
    "rd = RelationshipTypeDef(\n",
    "    name=\"azure_analysis_services_model_tables\",\n",
    "    attributeDefs=[],\n",
    "    relationshipCategory=\"COMPOSITION\",\n",
    "    endDef1={\n",
    "        \"type\":\"azure_analysis_services_model\",\n",
    "        \"name\":\"tables\",\n",
    "        \"isContainer\":True,\n",
    "        \"cardinality\":\"SET\",\n",
    "        \"isLegacyAttribute\":False\n",
    "    },\n",
    "    endDef2={\n",
    "        \"type\":\"azure_analysis_services_table\",\n",
    "        \"name\":\"model\",\n",
    "        \"isContainer\":False,\n",
    "        \"cardinality\":\"SINGLE\",\n",
    "        \"isLegacyAttribute\":False\n",
    "    }\n",
    ")\n",
    "client.upload_typedefs(relationshipDefs=[rd])\n"
   ]
  },
  {
   "cell_type": "markdown",
   "metadata": {},
   "source": [
    "Create a Relationship structure from Table to Column"
   ]
  },
  {
   "cell_type": "code",
   "execution_count": null,
   "metadata": {},
   "outputs": [],
   "source": [
    "rd = RelationshipTypeDef(\n",
    "    name=\"azure_analysis_services_table_columns\",\n",
    "    attributeDefs=[],\n",
    "    relationshipCategory=\"COMPOSITION\",\n",
    "    endDef1={\n",
    "        \"type\":\"azure_analysis_services_table\",\n",
    "        \"name\":\"columns\",\n",
    "        \"isContainer\":True,\n",
    "        \"cardinality\":\"SET\",\n",
    "        \"isLegacyAttribute\":False\n",
    "    },\n",
    "    endDef2={\n",
    "        \"type\":\"azure_analysis_services_column\",\n",
    "        \"name\":\"table\",\n",
    "        \"isContainer\":False,\n",
    "        \"cardinality\":\"SINGLE\",\n",
    "        \"isLegacyAttribute\":False\n",
    "    }\n",
    ")\n",
    "client.upload_typedefs(relationshipDefs=[rd])"
   ]
  },
  {
   "cell_type": "markdown",
   "metadata": {},
   "source": [
    "Now create the relations between the entities, using the guid reference for the entity created before"
   ]
  },
  {
   "cell_type": "code",
   "execution_count": null,
   "metadata": {},
   "outputs": [],
   "source": [
    "relationship = {\n",
    "    \"typeName\": \"azure_analysis_services_server_models\",\n",
    "    \"attributes\": {},\n",
    "    \"guid\": -100,\n",
    "    \"provenanceType\": 0,\n",
    "    \"end1\": {\n",
    "        \"guid\": serverGuid,\n",
    "        \"typeName\": \"azure_analysis_services_server\",\n",
    "        \"uniqueAttributes\": {\"qualifiedName\": \"aashomserver.azure.net\"}\n",
    "\n",
    "    },\n",
    "    \"end2\": {\n",
    "        \"guid\": modelGuid1,\n",
    "        \"typeName\": \"azure_analysis_services_model\",\n",
    "        \"uniqueAttributes\": {\"qualifiedName\": \"aashomserver.azure.net/model1\"}\n",
    "    }\n",
    "}\n",
    "\n",
    "client.upload_relationship(relationship)"
   ]
  },
  {
   "cell_type": "code",
   "execution_count": null,
   "metadata": {},
   "outputs": [],
   "source": [
    "relationship = {\n",
    "    \"typeName\": \"azure_analysis_services_model_tables\",\n",
    "    \"attributes\": {},\n",
    "    \"guid\": -100,\n",
    "    \"provenanceType\": 0,\n",
    "    \"end1\": {\n",
    "        \"guid\": modelGuid1,\n",
    "        \"typeName\": \"azure_analysis_services_model\",\n",
    "        \"uniqueAttributes\": {\"qualifiedName\": \"aashomserver.azure.net/model1\"}\n",
    "    },\n",
    "    \"end2\": {\n",
    "        \"guid\": tableGuid1,\n",
    "        \"typeName\": \"azure_analysis_services_table\",\n",
    "        \"uniqueAttributes\": {\"qualifiedName\": \"aashomserver.azure.net/model1/table1\"}\n",
    "    }\n",
    "}\n",
    "\n",
    "client.upload_relationship(relationship)"
   ]
  },
  {
   "cell_type": "code",
   "execution_count": null,
   "metadata": {},
   "outputs": [],
   "source": [
    "relationship = {\n",
    "    \"typeName\": \"azure_analysis_services_table_columns\",\n",
    "    \"attributes\": {},\n",
    "    \"guid\": -100,\n",
    "    \"provenanceType\": 0,\n",
    "    \"end1\": {\n",
    "        \"guid\": tableGuid1,\n",
    "        \"typeName\": \"azure_analysis_services_table\",\n",
    "        \"uniqueAttributes\": {\"qualifiedName\": \"aashomserver.azure.net/model1/table1\"}\n",
    "    },\n",
    "    \"end2\": {\n",
    "        \"guid\": columnGuid1,\n",
    "        \"typeName\": \"azure_analysis_services_column\",\n",
    "        \"uniqueAttributes\": {\"qualifiedName\": \"aashomserver.azure.net/model1/table1#column1\"}\n",
    "    }\n",
    "}\n",
    "\n",
    "client.upload_relationship(relationship)"
   ]
  }
 ],
 "metadata": {
  "kernelspec": {
   "display_name": "Python 3",
   "language": "python",
   "name": "python3"
  },
  "language_info": {
   "codemirror_mode": {
    "name": "ipython",
    "version": 3
   },
   "file_extension": ".py",
   "mimetype": "text/x-python",
   "name": "python",
   "nbconvert_exporter": "python",
   "pygments_lexer": "ipython3",
   "version": "3.8.5"
  }
 },
 "nbformat": 4,
 "nbformat_minor": 4
}
